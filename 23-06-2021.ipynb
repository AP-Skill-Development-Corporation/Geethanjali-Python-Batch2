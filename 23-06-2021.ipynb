{
 "cells": [
  {
   "cell_type": "markdown",
   "metadata": {},
   "source": [
    "##### OOPS -OBJECT ORIENTED PROGRAMMING\n",
    "\n",
    "- To solve programming problem is by creating objects\n",
    "\n",
    "### object\n",
    "- An object is a physical entity\n",
    "- An object is a instance of a class\n",
    "- Every object contains 2 characteristics\n",
    "    * State/properties/attributes\n",
    "    * behaviour\n",
    "\n",
    "\n",
    "### class\n",
    "- Combination of attributes and methods\n",
    "- attributes are variables of a class\n"
   ]
  },
  {
   "cell_type": "code",
   "execution_count": 2,
   "metadata": {},
   "outputs": [
    {
     "data": {
      "text/plain": [
       "<__main__.Classname at 0x4f3ff88>"
      ]
     },
     "execution_count": 2,
     "metadata": {},
     "output_type": "execute_result"
    }
   ],
   "source": [
    "# syntax for the class\n",
    "\n",
    "class Classname:\n",
    "    pass\n",
    "Classname()"
   ]
  },
  {
   "cell_type": "code",
   "execution_count": 3,
   "metadata": {},
   "outputs": [
    {
     "name": "stdout",
     "output_type": "stream",
     "text": [
      "<class 'int'>\n"
     ]
    }
   ],
   "source": [
    "a=10\n",
    "print(type(a))"
   ]
  },
  {
   "cell_type": "code",
   "execution_count": 4,
   "metadata": {},
   "outputs": [
    {
     "name": "stdout",
     "output_type": "stream",
     "text": [
      "<class 'str'>\n"
     ]
    }
   ],
   "source": [
    "a=\"python\"\n",
    "print(type(a))"
   ]
  },
  {
   "cell_type": "code",
   "execution_count": 5,
   "metadata": {},
   "outputs": [
    {
     "data": {
      "text/plain": [
       "'python'"
      ]
     },
     "execution_count": 5,
     "metadata": {},
     "output_type": "execute_result"
    }
   ],
   "source": [
    "a"
   ]
  },
  {
   "cell_type": "code",
   "execution_count": 6,
   "metadata": {},
   "outputs": [
    {
     "data": {
      "text/plain": [
       "'java'"
      ]
     },
     "execution_count": 6,
     "metadata": {},
     "output_type": "execute_result"
    }
   ],
   "source": [
    "class myClass:\n",
    "    a1=\"program\"\n",
    "    a2=\"java\"\n",
    "    \n",
    "myClass.a2"
   ]
  },
  {
   "cell_type": "code",
   "execution_count": 7,
   "metadata": {},
   "outputs": [
    {
     "ename": "NameError",
     "evalue": "name 'a2' is not defined",
     "output_type": "error",
     "traceback": [
      "\u001b[1;31m---------------------------------------------------------------------------\u001b[0m",
      "\u001b[1;31mNameError\u001b[0m                                 Traceback (most recent call last)",
      "\u001b[1;32m<ipython-input-7-5447c6b8023b>\u001b[0m in \u001b[0;36m<module>\u001b[1;34m\u001b[0m\n\u001b[1;32m----> 1\u001b[1;33m \u001b[0ma2\u001b[0m\u001b[1;33m\u001b[0m\u001b[1;33m\u001b[0m\u001b[0m\n\u001b[0m",
      "\u001b[1;31mNameError\u001b[0m: name 'a2' is not defined"
     ]
    }
   ],
   "source": [
    "a2"
   ]
  },
  {
   "cell_type": "markdown",
   "metadata": {},
   "source": [
    "### method\n",
    "\n",
    "- name given to a function which is defined inside a class. They are used to define the behaviour of an object"
   ]
  },
  {
   "cell_type": "code",
   "execution_count": 8,
   "metadata": {},
   "outputs": [
    {
     "data": {
      "text/plain": [
       "<__main__.myClass at 0x54103c8>"
      ]
     },
     "execution_count": 8,
     "metadata": {},
     "output_type": "execute_result"
    }
   ],
   "source": [
    "class myClass:\n",
    "    def fun():\n",
    "        print(\"my name is Merc\")\n",
    "        \n",
    "myClass()\n",
    "        \n"
   ]
  },
  {
   "cell_type": "code",
   "execution_count": 9,
   "metadata": {},
   "outputs": [
    {
     "name": "stdout",
     "output_type": "stream",
     "text": [
      "my name is Merc\n"
     ]
    }
   ],
   "source": [
    "myClass.fun()"
   ]
  },
  {
   "cell_type": "code",
   "execution_count": 10,
   "metadata": {
    "collapsed": true
   },
   "outputs": [
    {
     "ename": "NameError",
     "evalue": "name 'fun' is not defined",
     "output_type": "error",
     "traceback": [
      "\u001b[1;31m---------------------------------------------------------------------------\u001b[0m",
      "\u001b[1;31mNameError\u001b[0m                                 Traceback (most recent call last)",
      "\u001b[1;32m<ipython-input-10-d9f830ba61f1>\u001b[0m in \u001b[0;36m<module>\u001b[1;34m\u001b[0m\n\u001b[1;32m----> 1\u001b[1;33m \u001b[0mfun\u001b[0m\u001b[1;33m(\u001b[0m\u001b[1;33m)\u001b[0m\u001b[1;33m\u001b[0m\u001b[1;33m\u001b[0m\u001b[0m\n\u001b[0m",
      "\u001b[1;31mNameError\u001b[0m: name 'fun' is not defined"
     ]
    }
   ],
   "source": [
    "fun()"
   ]
  },
  {
   "cell_type": "code",
   "execution_count": 13,
   "metadata": {},
   "outputs": [
    {
     "name": "stdout",
     "output_type": "stream",
     "text": [
      "i5, 8gb RAM ,512 SSD\n"
     ]
    }
   ],
   "source": [
    "### creating objects\n",
    "\n",
    "class lapy:\n",
    "    def asus(self):\n",
    "        print(\"i5, 8gb RAM ,512 SSD\")\n",
    "        \n",
    "l1=lapy()    #object\n",
    "l1.asus()"
   ]
  },
  {
   "cell_type": "code",
   "execution_count": 14,
   "metadata": {},
   "outputs": [
    {
     "name": "stdout",
     "output_type": "stream",
     "text": [
      "i5, 8gb RAM ,512 SSD\n"
     ]
    }
   ],
   "source": [
    "l2=lapy()\n",
    "l2.asus()"
   ]
  },
  {
   "cell_type": "code",
   "execution_count": 16,
   "metadata": {},
   "outputs": [
    {
     "name": "stdout",
     "output_type": "stream",
     "text": [
      "hi\n"
     ]
    }
   ],
   "source": [
    "class person:\n",
    "    def myne(self):\n",
    "        print(\"hi\")\n",
    "        \n",
    "        \n",
    "ram=person()\n",
    "ram.myne()"
   ]
  },
  {
   "cell_type": "code",
   "execution_count": 17,
   "metadata": {},
   "outputs": [
    {
     "name": "stdout",
     "output_type": "stream",
     "text": [
      "hi\n"
     ]
    }
   ],
   "source": [
    "sai=person()\n",
    "sai.myne()"
   ]
  },
  {
   "cell_type": "code",
   "execution_count": 29,
   "metadata": {},
   "outputs": [],
   "source": [
    "class A:\n",
    "    def add(a,b):\n",
    "        print(a+b)              "
   ]
  },
  {
   "cell_type": "code",
   "execution_count": 30,
   "metadata": {},
   "outputs": [
    {
     "name": "stdout",
     "output_type": "stream",
     "text": [
      "5\n"
     ]
    }
   ],
   "source": [
    "A.add(2,3)"
   ]
  },
  {
   "cell_type": "code",
   "execution_count": 33,
   "metadata": {},
   "outputs": [],
   "source": [
    "obj1=A"
   ]
  },
  {
   "cell_type": "code",
   "execution_count": 34,
   "metadata": {},
   "outputs": [
    {
     "name": "stdout",
     "output_type": "stream",
     "text": [
      "910\n"
     ]
    }
   ],
   "source": [
    "obj1.add(20,890)"
   ]
  },
  {
   "cell_type": "code",
   "execution_count": 35,
   "metadata": {},
   "outputs": [
    {
     "name": "stdout",
     "output_type": "stream",
     "text": [
      "42\n"
     ]
    }
   ],
   "source": [
    "class B:\n",
    "    def mult(self,a,b):\n",
    "        print(a*b)\n",
    "        \n",
    "res=B()\n",
    "res.mult(6,7)\n",
    "        "
   ]
  },
  {
   "cell_type": "code",
   "execution_count": 37,
   "metadata": {},
   "outputs": [],
   "source": [
    "class mul:\n",
    "    def multi():\n",
    "        a=int(input(\"enter the no: \"))\n",
    "        b=int(input(\"enter the no: \"))\n",
    "        m=a*b\n",
    "        print(\"multiplication result is: \",m)"
   ]
  },
  {
   "cell_type": "code",
   "execution_count": 39,
   "metadata": {},
   "outputs": [
    {
     "name": "stdout",
     "output_type": "stream",
     "text": [
      "enter the no: 12\n",
      "enter the no: 34\n",
      "multiplication result is:  408\n"
     ]
    }
   ],
   "source": [
    "obj1=mul\n",
    "obj1.multi()"
   ]
  },
  {
   "cell_type": "markdown",
   "metadata": {},
   "source": [
    "### Constructor\n",
    "\n",
    "* Used for instantiating an object.python init(self) method called as constructor\n",
    "* it works to initialize(assign values) to the attributes of a class when an object of a class is created.\n",
    "\n",
    "* Types of constructors\n",
    "    * Default constrcutor\n",
    "    * parameterized constructor\n",
    "    \n",
    "\n",
    "\n"
   ]
  },
  {
   "cell_type": "code",
   "execution_count": 40,
   "metadata": {
    "collapsed": true
   },
   "outputs": [
    {
     "ename": "SyntaxError",
     "evalue": "unexpected EOF while parsing (<ipython-input-40-ff55052cfc29>, line 2)",
     "output_type": "error",
     "traceback": [
      "\u001b[1;36m  File \u001b[1;32m\"<ipython-input-40-ff55052cfc29>\"\u001b[1;36m, line \u001b[1;32m2\u001b[0m\n\u001b[1;33m    #body of constructor\u001b[0m\n\u001b[1;37m                        ^\u001b[0m\n\u001b[1;31mSyntaxError\u001b[0m\u001b[1;31m:\u001b[0m unexpected EOF while parsing\n"
     ]
    }
   ],
   "source": [
    "def __init__(self):\n",
    "    #body of constructor"
   ]
  },
  {
   "cell_type": "code",
   "execution_count": 43,
   "metadata": {},
   "outputs": [
    {
     "name": "stdout",
     "output_type": "stream",
     "text": [
      "i am init constructor\n",
      "i am method of this class\n"
     ]
    }
   ],
   "source": [
    "#constuctor without any parameters is called default constructor\n",
    "\n",
    "class myClass:\n",
    "    def __init__(self):    #default constructor\n",
    "        print(\"i am init constructor\")\n",
    "    def sample(self):\n",
    "        print(\"i am method of this class\")\n",
    "        \n",
    "obj=myClass()\n",
    "obj.sample()\n",
    "\n"
   ]
  },
  {
   "cell_type": "code",
   "execution_count": 45,
   "metadata": {},
   "outputs": [
    {
     "name": "stdout",
     "output_type": "stream",
     "text": [
      "sum is: 68\n"
     ]
    }
   ],
   "source": [
    "# parameterized constructor - constructor with parameters\n",
    "\n",
    "class Class1:\n",
    "    def __init__(self,num1,num2):\n",
    "        self.n1=num1\n",
    "        self.n2=num2\n",
    "        \n",
    "    def add(self):\n",
    "        s=self.n1+self.n2\n",
    "        print(\"sum is:\", s)\n",
    "        \n",
    "obj=Class1(23,45)\n",
    "\n",
    "obj.add()      "
   ]
  },
  {
   "cell_type": "markdown",
   "metadata": {},
   "source": [
    "### python inheritance\n",
    "\n",
    "- inheritance enables us to define a class that takes all the functionality from a parent class and allows us to add more\n",
    "\n",
    "- base class or parent class or super class\n",
    "- derived class or child class or subclassd\n",
    "\n",
    "* Uses\n",
    "\n",
    "    - code re-usability\n",
    "    - allows us to add more features to a class without modifying it\n",
    "    "
   ]
  },
  {
   "cell_type": "markdown",
   "metadata": {},
   "source": [
    "### single level inheritance\n",
    "\n",
    "- when a child class inherits from only one parent ,then it is single inheritance\n"
   ]
  },
  {
   "cell_type": "code",
   "execution_count": 46,
   "metadata": {},
   "outputs": [],
   "source": [
    "class ParentClass:\n",
    "    def __init__(self):\n",
    "        self.val1=10\n",
    "        self.val2=3\n",
    "        \n",
    "    def show(self):\n",
    "        print(self.val1,self.val2)\n",
    "        \n",
    "class childClass(ParentClass):\n",
    "    def power(self):\n",
    "        print(self.val1**self.val2)\n",
    "        \n",
    "     \n",
    "        "
   ]
  },
  {
   "cell_type": "code",
   "execution_count": 47,
   "metadata": {},
   "outputs": [
    {
     "name": "stdout",
     "output_type": "stream",
     "text": [
      "10 3\n"
     ]
    }
   ],
   "source": [
    "obp=ParentClass()\n",
    "obp.show()"
   ]
  },
  {
   "cell_type": "code",
   "execution_count": 48,
   "metadata": {},
   "outputs": [
    {
     "name": "stdout",
     "output_type": "stream",
     "text": [
      "1000\n"
     ]
    }
   ],
   "source": [
    "obc=childClass()\n",
    "obc.power()"
   ]
  },
  {
   "cell_type": "markdown",
   "metadata": {},
   "source": [
    "### Multiple inheritance\n",
    "\n",
    "- more than one parent class and only one child class"
   ]
  },
  {
   "cell_type": "code",
   "execution_count": 52,
   "metadata": {},
   "outputs": [
    {
     "name": "stdout",
     "output_type": "stream",
     "text": [
      "3000\n"
     ]
    }
   ],
   "source": [
    "class fatherClass:\n",
    "    def __init__(self):\n",
    "        self.money=1000\n",
    "        \n",
    "class motherClass:\n",
    "    def __init__(self):\n",
    "        self.amount=2000\n",
    "        \n",
    "        \n",
    "class Child(fatherClass,motherClass):\n",
    "    def __init__(self):\n",
    "        fatherClass.__init__(self)\n",
    "        motherClass.__init__(self)\n",
    "        print(self.money+self.amount)\n",
    "\n",
    "        \n",
    "obchild=Child()\n",
    "    "
   ]
  },
  {
   "cell_type": "markdown",
   "metadata": {},
   "source": [
    "### multilevel inheritance\n",
    "\n",
    "Have grandparent,parent, and child relationship\n",
    "\n",
    "when we have a child and grandchild relationship"
   ]
  },
  {
   "cell_type": "code",
   "execution_count": 53,
   "metadata": {},
   "outputs": [],
   "source": [
    "class Granny:\n",
    "    def __init__(self):\n",
    "        self.property=\"30 lakhs\"\n",
    "        \n",
    "class Father(Granny):\n",
    "    def __init__(self):\n",
    "        super().__init__()\n",
    "        print(self.property)\n",
    "        self.initial=\"k\"\n",
    "        \n",
    "class child(Father):\n",
    "     def __init__(self):\n",
    "        self.a=1000000\n",
    "        super().__init__()\n",
    "        print(self.a,self.initial,self.property)\n",
    "        \n",
    "    \n",
    "     "
   ]
  },
  {
   "cell_type": "code",
   "execution_count": 55,
   "metadata": {},
   "outputs": [
    {
     "name": "stdout",
     "output_type": "stream",
     "text": [
      "30 lakhs\n",
      "1000000 k 30 lakhs\n"
     ]
    }
   ],
   "source": [
    "obchild=child()"
   ]
  },
  {
   "cell_type": "code",
   "execution_count": null,
   "metadata": {},
   "outputs": [],
   "source": []
  }
 ],
 "metadata": {
  "kernelspec": {
   "display_name": "Python 3",
   "language": "python",
   "name": "python3"
  },
  "language_info": {
   "codemirror_mode": {
    "name": "ipython",
    "version": 3
   },
   "file_extension": ".py",
   "mimetype": "text/x-python",
   "name": "python",
   "nbconvert_exporter": "python",
   "pygments_lexer": "ipython3",
   "version": "3.7.6"
  }
 },
 "nbformat": 4,
 "nbformat_minor": 4
}
