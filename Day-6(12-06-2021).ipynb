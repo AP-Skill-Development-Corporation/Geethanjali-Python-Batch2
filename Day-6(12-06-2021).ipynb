{
 "cells": [
  {
   "cell_type": "markdown",
   "metadata": {},
   "source": [
    "### Agenda:\n",
    "- Operators\n",
    "- Conditional Statements\n",
    "- Control Flow Statements"
   ]
  },
  {
   "cell_type": "code",
   "execution_count": 1,
   "metadata": {},
   "outputs": [
    {
     "name": "stdout",
     "output_type": "stream",
     "text": [
      "6 2 8 2.0\n",
      "2 16 0\n"
     ]
    }
   ],
   "source": [
    "a = 4\n",
    "b = 2\n",
    "\n",
    "# arithmetic operators\n",
    "print(a+b,a-b,a*b,a/b)\n",
    "\n",
    "print(a//b,a**b,a%b)"
   ]
  },
  {
   "cell_type": "code",
   "execution_count": 2,
   "metadata": {},
   "outputs": [
    {
     "name": "stdout",
     "output_type": "stream",
     "text": [
      "67\n",
      "75\n",
      "15.0\n",
      "3.0\n",
      "300.0\n"
     ]
    }
   ],
   "source": [
    "# Assignment Operators: =, +=, -=, *=, /= ....etc..\n",
    "\n",
    "num = 67\n",
    "print(num)\n",
    "# add 8 to num.\n",
    "\n",
    "num += 8\n",
    "print(num)\n",
    "# divide 5\n",
    "\n",
    "num /= 5\n",
    "print(num)\n",
    "\n",
    "num %= 4\n",
    "print(num)\n",
    "\n",
    "num *= 100\n",
    "print(num)"
   ]
  },
  {
   "cell_type": "code",
   "execution_count": 3,
   "metadata": {},
   "outputs": [
    {
     "name": "stdout",
     "output_type": "stream",
     "text": [
      "False True False True\n",
      "True True\n"
     ]
    }
   ],
   "source": [
    "# Comparison Operators: <, >, <= , >= , ==, !=\n",
    "\n",
    "x = 13\n",
    "y = 10\n",
    "\n",
    "print(x<y, y<x, x==y,y!=x)\n",
    "\n",
    "print(x>=y, y<=x)"
   ]
  },
  {
   "cell_type": "code",
   "execution_count": 4,
   "metadata": {},
   "outputs": [
    {
     "name": "stdout",
     "output_type": "stream",
     "text": [
      "False\n",
      "True\n",
      "True\n"
     ]
    }
   ],
   "source": [
    "# Logical Operators\n",
    "\n",
    "print(x<y and x!=y)\n",
    "\n",
    "print(x<y or x!=y)\n",
    "\n",
    "print(not x==y)"
   ]
  },
  {
   "cell_type": "code",
   "execution_count": 5,
   "metadata": {},
   "outputs": [
    {
     "data": {
      "text/plain": [
       "7"
      ]
     },
     "execution_count": 5,
     "metadata": {},
     "output_type": "execute_result"
    }
   ],
   "source": [
    "# Bitwise Operators\n",
    "p = 5 # 101\n",
    "q = 6 # 110\n",
    "\n",
    "# bin(integer_value)\n",
    "bin(6)\n",
    "\n",
    "p&q\n",
    "p|q"
   ]
  },
  {
   "cell_type": "code",
   "execution_count": 6,
   "metadata": {},
   "outputs": [
    {
     "data": {
      "text/plain": [
       "7"
      ]
     },
     "execution_count": 6,
     "metadata": {},
     "output_type": "execute_result"
    }
   ],
   "source": [
    "int('111',2) # binary to integer."
   ]
  },
  {
   "cell_type": "code",
   "execution_count": 7,
   "metadata": {},
   "outputs": [
    {
     "name": "stdout",
     "output_type": "stream",
     "text": [
      "True\n"
     ]
    }
   ],
   "source": [
    "# Identity operators\n",
    "x = 13\n",
    "y = x\n",
    "z = x\n",
    "r = 13\n",
    "\n",
    "print(x is y)"
   ]
  },
  {
   "cell_type": "code",
   "execution_count": 8,
   "metadata": {},
   "outputs": [
    {
     "data": {
      "text/plain": [
       "False"
      ]
     },
     "execution_count": 8,
     "metadata": {},
     "output_type": "execute_result"
    }
   ],
   "source": [
    "# membership operators: in, not in\n",
    "\n",
    "'HA' in 'geethanjali'"
   ]
  },
  {
   "cell_type": "markdown",
   "metadata": {},
   "source": [
    "## Conditional Statements\n",
    "\n",
    "- if \n",
    "- elif\n",
    "- else\n",
    "\n",
    " if condition:\n",
    " \n",
    "    statements\n",
    "    \n",
    "    statements"
   ]
  },
  {
   "cell_type": "code",
   "execution_count": 9,
   "metadata": {},
   "outputs": [
    {
     "name": "stdout",
     "output_type": "stream",
     "text": [
      "Enter any number: 234\n",
      "Even number\n"
     ]
    }
   ],
   "source": [
    "# even or odd --> i/p: any num , o/p: even or odd , condition:num%2==0\n",
    "\n",
    "num = int(input(\"Enter any number: \"))\n",
    "if num%2!=1:\n",
    "    print(\"Even number\")\n",
    "else:\n",
    "    print(\"Odd number\")"
   ]
  },
  {
   "cell_type": "code",
   "execution_count": 10,
   "metadata": {},
   "outputs": [
    {
     "name": "stdout",
     "output_type": "stream",
     "text": [
      "Enter ur Age: 10\n",
      " Sorry!!, You are not eligible!!\n"
     ]
    }
   ],
   "source": [
    "# Vote eligibility --> i/p:age , o/p: eligible or not, condition: age>=18\n",
    "age = int(input(\"Enter ur Age: \"))\n",
    "if (age>=18):\n",
    "    print(\"You are eligible!!\")\n",
    "else:\n",
    "    print(\" Sorry!!, You are not eligible!!\")"
   ]
  },
  {
   "cell_type": "code",
   "execution_count": 15,
   "metadata": {},
   "outputs": [
    {
     "name": "stdout",
     "output_type": "stream",
     "text": [
      "Enter ur marks: 84\n",
      "C\n"
     ]
    }
   ],
   "source": [
    "## Grade system: 95 & above - A, 85 to 94 - B ,...\n",
    "marks = int(input(\"Enter ur marks: \"))\n",
    "if marks>=95:\n",
    "    print('A')\n",
    "elif(marks>=85 and marks<=94):\n",
    "    print('B')\n",
    "elif(marks>=65 and marks<=84):\n",
    "    print('C')\n",
    "else:\n",
    "    print(\"F\")"
   ]
  },
  {
   "cell_type": "code",
   "execution_count": null,
   "metadata": {},
   "outputs": [],
   "source": [
    "## Task: take three numbers input from the user and print the largest number."
   ]
  },
  {
   "cell_type": "code",
   "execution_count": 19,
   "metadata": {
    "scrolled": true
   },
   "outputs": [
    {
     "name": "stdout",
     "output_type": "stream",
     "text": [
      "Enter a number: 123\n",
      "Odd number\n"
     ]
    }
   ],
   "source": [
    "# num -->even or odd if even-->  multiple of 4 \n",
    "# odd number --> if it is multiple of 7 or not\n",
    "\n",
    "n = int(input(\"Enter a number: \"))\n",
    "if n%2==0:\n",
    "    if n%4==0:\n",
    "        print(\"Even & multiple of 4\")\n",
    "    else:\n",
    "        print(\"Even number\")\n",
    "else:\n",
    "    if n%7==0:\n",
    "        print(\"Odd & multiple of 7\")\n",
    "    else:\n",
    "        print(\"Odd number\")"
   ]
  },
  {
   "cell_type": "markdown",
   "metadata": {},
   "source": [
    "## Loops:\n",
    "\n",
    "- loops: to execute one or more statements or a block of code again and again.\n",
    "\n",
    "- for loop\n",
    "    - if we know the number of iterations.\n",
    "    - For loop iterates on sequences like lists, strings tuples or number sequences.\n",
    "- while loop\n",
    "    - if we don't know the no of iterations and only the condition."
   ]
  },
  {
   "cell_type": "code",
   "execution_count": 22,
   "metadata": {
    "collapsed": true
   },
   "outputs": [
    {
     "name": "stdout",
     "output_type": "stream",
     "text": [
      "0\n",
      "1\n",
      "2\n",
      "3\n",
      "4\n",
      "5\n",
      "6\n",
      "7\n",
      "8\n",
      "9\n",
      "10\n"
     ]
    }
   ],
   "source": [
    "# print 1 to 10 numbers.\n",
    "for i in range(11): # range(m,n,step = 1)\n",
    "    print(i)"
   ]
  },
  {
   "cell_type": "code",
   "execution_count": 25,
   "metadata": {
    "collapsed": true
   },
   "outputs": [
    {
     "name": "stdout",
     "output_type": "stream",
     "text": [
      "0\n",
      "2\n",
      "4\n",
      "6\n",
      "8\n",
      "10\n",
      "12\n",
      "14\n",
      "16\n",
      "18\n",
      "20\n",
      "22\n",
      "24\n",
      "26\n",
      "28\n",
      "30\n",
      "32\n",
      "34\n",
      "36\n",
      "38\n",
      "40\n",
      "42\n",
      "44\n",
      "46\n",
      "48\n",
      "50\n"
     ]
    }
   ],
   "source": [
    "for i in range(0,51,2):\n",
    "    print(i)"
   ]
  },
  {
   "cell_type": "code",
   "execution_count": 28,
   "metadata": {},
   "outputs": [
    {
     "name": "stdout",
     "output_type": "stream",
     "text": [
      "11\n",
      "9\n",
      "7\n",
      "5\n",
      "3\n",
      "1\n"
     ]
    }
   ],
   "source": [
    "# 10 9 8 7 6....0\n",
    "for i in range(11,0,-2):\n",
    "    print(i)"
   ]
  },
  {
   "cell_type": "code",
   "execution_count": null,
   "metadata": {},
   "outputs": [],
   "source": [
    "# task: wap to print all the even and odd number in one program."
   ]
  }
 ],
 "metadata": {
  "kernelspec": {
   "display_name": "Python 3",
   "language": "python",
   "name": "python3"
  },
  "language_info": {
   "codemirror_mode": {
    "name": "ipython",
    "version": 3
   },
   "file_extension": ".py",
   "mimetype": "text/x-python",
   "name": "python",
   "nbconvert_exporter": "python",
   "pygments_lexer": "ipython3",
   "version": "3.7.6"
  }
 },
 "nbformat": 4,
 "nbformat_minor": 4
}
