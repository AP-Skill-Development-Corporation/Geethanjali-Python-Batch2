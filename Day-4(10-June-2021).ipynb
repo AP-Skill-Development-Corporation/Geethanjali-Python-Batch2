{
 "cells": [
  {
   "cell_type": "code",
   "execution_count": null,
   "metadata": {},
   "outputs": [],
   "source": []
  },
  {
   "cell_type": "markdown",
   "metadata": {},
   "source": [
    "- command mode (blue color)\n",
    "- edit mode(green color)\n",
    "- from edit mode to cmd mode ==> press esc button\n",
    "- if we want to create a cell above ==> press key 'a'\n",
    "- if we want to create a cell below ==> press key 'b'\n",
    "- delete the cell ==> press key 'd' two times\n",
    "\n",
    "- two types of cells:\n",
    "    1) code cell ==> used to write instructions in python.\n",
    "    2) markdown cell ==> used for documentation.\n",
    "\n",
    "- code to markdown ==> press key 'm' from keyboard.\n",
    "- markdown to code ==> press key 'y' from keyboard.\n",
    "\n",
    "- to run a cell ==> shift+enter"
   ]
  },
  {
   "cell_type": "markdown",
   "metadata": {},
   "source": [
    "# Heading 1 \n",
    "## Heading 2\n",
    "### Headind 3\n",
    "#### h4\n",
    "##### h5\n",
    "###### h6   "
   ]
  },
  {
   "cell_type": "code",
   "execution_count": null,
   "metadata": {},
   "outputs": [],
   "source": []
  }
 ],
 "metadata": {
  "kernelspec": {
   "display_name": "Python 3",
   "language": "python",
   "name": "python3"
  },
  "language_info": {
   "codemirror_mode": {
    "name": "ipython",
    "version": 3
   },
   "file_extension": ".py",
   "mimetype": "text/x-python",
   "name": "python",
   "nbconvert_exporter": "python",
   "pygments_lexer": "ipython3",
   "version": "3.7.6"
  }
 },
 "nbformat": 4,
 "nbformat_minor": 4
}
