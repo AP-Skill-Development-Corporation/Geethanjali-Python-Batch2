{
 "cells": [
  {
   "cell_type": "markdown",
   "metadata": {},
   "source": [
    "## Day objectives:\n",
    "\n",
    "- Sets\n",
    "    - Definition\n",
    "    - Set Operations\n",
    "    - Set Methods\n",
    "- Funtions\n",
    "    - Definition\n",
    "    - Types Functions"
   ]
  },
  {
   "cell_type": "code",
   "execution_count": null,
   "metadata": {},
   "outputs": [],
   "source": []
  },
  {
   "cell_type": "markdown",
   "metadata": {},
   "source": [
    "### Sets\n",
    "\n",
    "- Def: Collection of elements.\n",
    "- we can use {} to declare a set.\n",
    "- it doesn't allow duplication.\n",
    "- It is an un-ordered and mutable data structure.\n",
    "- We don't have a concept of indexing in sets."
   ]
  },
  {
   "cell_type": "code",
   "execution_count": 5,
   "metadata": {
    "scrolled": true
   },
   "outputs": [
    {
     "name": "stdout",
     "output_type": "stream",
     "text": [
      "{1, 4, 6, 7, 29}\n",
      "[4, 7, 1, 29, 6]\n"
     ]
    },
    {
     "data": {
      "text/plain": [
       "29"
      ]
     },
     "execution_count": 5,
     "metadata": {},
     "output_type": "execute_result"
    }
   ],
   "source": [
    "# Declaration\n",
    "s = {4,7,1,29,6}\n",
    "li = [4,7,1,29,6]\n",
    "print(s)\n",
    "print(li)\n",
    "li[3]"
   ]
  },
  {
   "cell_type": "code",
   "execution_count": 10,
   "metadata": {},
   "outputs": [
    {
     "name": "stdout",
     "output_type": "stream",
     "text": [
      "{98, 76, 45, 59, 60}\n",
      "5\n",
      "[98, 76, 59, 98, 60, 45, 59, 60]\n",
      "8\n",
      "98 98\n"
     ]
    }
   ],
   "source": [
    "## It doesn't allow duplication\n",
    "\n",
    "marks = {98,76,59,98,60,45,59,60}\n",
    "print(marks)\n",
    "print(len(marks))\n",
    "\n",
    "li = [98,76,59,98,60,45,59,60]\n",
    "print(li)\n",
    "print(len(li))\n",
    "print(li[0],li[3])"
   ]
  },
  {
   "cell_type": "markdown",
   "metadata": {},
   "source": [
    "### Set Operations\n",
    "\n",
    "- Union --> combination both A and B\n",
    "- Intersection --> Common elements in both sets A and B\n",
    "- Difference --> (A-B) --> we will get all the remaining elements in A after removing common elements."
   ]
  },
  {
   "cell_type": "code",
   "execution_count": 20,
   "metadata": {
    "collapsed": true
   },
   "outputs": [
    {
     "name": "stdout",
     "output_type": "stream",
     "text": [
      "{1, 2, 3, 4, 5, 6, 7, 8}\n",
      "{4, 5}\n",
      "{1, 2, 3}\n",
      "{8, 6, 7}\n",
      "{1, 2, 3, 6, 7, 8}\n"
     ]
    }
   ],
   "source": [
    "A = {1,2,3,4,5}\n",
    "B = {4,5,6,7,8}\n",
    "\n",
    "# Union\n",
    "print(A|B)\n",
    "# Intersection \n",
    "print(A&B)\n",
    "\n",
    "# Difference\n",
    "print(A-B)\n",
    "print(B-A)\n",
    "\n",
    "# Symmetric Difference\n",
    "print(A^B)"
   ]
  },
  {
   "cell_type": "code",
   "execution_count": 21,
   "metadata": {
    "collapsed": true
   },
   "outputs": [
    {
     "name": "stdout",
     "output_type": "stream",
     "text": [
      "True\n",
      "True\n",
      "False\n",
      "True\n"
     ]
    }
   ],
   "source": [
    "print(A|B == B|A)\n",
    "print(A&B == B&A)\n",
    "print(A-B == B-A)\n",
    "print(A^B == B^A)"
   ]
  },
  {
   "cell_type": "markdown",
   "metadata": {},
   "source": [
    "## Set methods:"
   ]
  },
  {
   "cell_type": "code",
   "execution_count": 25,
   "metadata": {
    "collapsed": true
   },
   "outputs": [
    {
     "name": "stdout",
     "output_type": "stream",
     "text": [
      "['__and__', '__class__', '__contains__', '__delattr__', '__dir__', '__doc__', '__eq__', '__format__', '__ge__', '__getattribute__', '__gt__', '__hash__', '__iand__', '__init__', '__init_subclass__', '__ior__', '__isub__', '__iter__', '__ixor__', '__le__', '__len__', '__lt__', '__ne__', '__new__', '__or__', '__rand__', '__reduce__', '__reduce_ex__', '__repr__', '__ror__', '__rsub__', '__rxor__', '__setattr__', '__sizeof__', '__str__', '__sub__', '__subclasshook__', '__xor__', 'add', 'clear', 'copy', 'difference', 'difference_update', 'discard', 'intersection', 'intersection_update', 'isdisjoint', 'issubset', 'issuperset', 'pop', 'remove', 'symmetric_difference', 'symmetric_difference_update', 'union', 'update']\n"
     ]
    }
   ],
   "source": [
    "print(dir(set))"
   ]
  },
  {
   "cell_type": "code",
   "execution_count": 63,
   "metadata": {},
   "outputs": [
    {
     "name": "stdout",
     "output_type": "stream",
     "text": [
      "{1, 2, 3, 4, 5, 7, 9, 10, 19}\n",
      "{1, 2, 3, 4, 5, 7, 9, 10, 19}\n",
      "{9}\n",
      "{9}\n",
      "{10, 19, 4, 7}\n",
      "{1, 2, 3, 5}\n",
      "{10, 19, 4, 7}\n",
      "{1, 2, 3, 4, 5, 7, 10, 19}\n",
      "{1, 2, 3, 4, 5, 7, 10, 19}\n",
      "{1, 2, 3, 5, 9}\n",
      "{4, 7, 9, 10, 19}\n"
     ]
    }
   ],
   "source": [
    "x = {3,5,2,9,1}\n",
    "y = {9,4,7,19,10}\n",
    "\n",
    "# union()\n",
    "print(x.union(y))\n",
    "print(x|y) # union operation using operator.\n",
    "\n",
    "# intersection()\n",
    "print(x.intersection(y))\n",
    "print(x&y)\n",
    "\n",
    "# diffence()\n",
    "print(y.difference(x)) ## \n",
    "print(x-y)\n",
    "print(y-x)\n",
    "\n",
    "# symmetric_difference()\n",
    "print(x.symmetric_difference(y))\n",
    "print(x^y)\n",
    "\n",
    "\n",
    "print(x)\n",
    "print(y)"
   ]
  },
  {
   "cell_type": "code",
   "execution_count": 34,
   "metadata": {},
   "outputs": [],
   "source": [
    "names = {\"poojitha\",'abhinav',\"arun\",'chandu'}\n",
    "# 'nikhitha'\n",
    "names.add('nikhitha')"
   ]
  },
  {
   "cell_type": "code",
   "execution_count": 35,
   "metadata": {},
   "outputs": [
    {
     "data": {
      "text/plain": [
       "{'abhinav', 'arun', 'chandu', 'nikhitha', 'poojitha'}"
      ]
     },
     "execution_count": 35,
     "metadata": {},
     "output_type": "execute_result"
    }
   ],
   "source": [
    "names"
   ]
  },
  {
   "cell_type": "code",
   "execution_count": 37,
   "metadata": {},
   "outputs": [
    {
     "name": "stdout",
     "output_type": "stream",
     "text": [
      "{'chandu', 'poojitha', 'lekhana', 'sai', 'arun', 'nikhitha', 'abhinav', 'yamini'}\n"
     ]
    }
   ],
   "source": [
    "## to add too many elements at a time\n",
    "## update()\n",
    "names.update(['sai','lekhana','yamini'])\n",
    "print(names)"
   ]
  },
  {
   "cell_type": "code",
   "execution_count": 42,
   "metadata": {},
   "outputs": [
    {
     "name": "stdout",
     "output_type": "stream",
     "text": [
      "{'chandu', ('meenakshi', 'vijay'), 'sindhu', 'poojitha', 'lekhana', 'sai', 'arun', 'nikhitha', 'abhinav', 'yamini'}\n"
     ]
    }
   ],
   "source": [
    "# wt happen after execution ??\n",
    "names.add(('meenakshi','vijay'))\n",
    "print(names)"
   ]
  },
  {
   "cell_type": "code",
   "execution_count": 44,
   "metadata": {
    "scrolled": true
   },
   "outputs": [
    {
     "name": "stdout",
     "output_type": "stream",
     "text": [
      "{'chandu', ('meenakshi', 'vijay'), 'sindhu', 'poojitha', 'lekhana', 's', 'h', 'sai', 'u', 'arun', 'i', 'nikhitha', 'n', 'abhinav', 'yamini', 'd'}\n"
     ]
    }
   ],
   "source": [
    "names.update(['sindhu'])\n",
    "print(names)"
   ]
  },
  {
   "cell_type": "markdown",
   "metadata": {},
   "source": [
    "## Deleting Set elements\n",
    "\n",
    "- pop()\n",
    "- discard()\n",
    "- remove()\n",
    "- clear()\n",
    "- del"
   ]
  },
  {
   "cell_type": "code",
   "execution_count": 45,
   "metadata": {},
   "outputs": [],
   "source": [
    "#pop()\n",
    "fl = {'rose','jasmine','lilly','sunflower','car','ball'}\n",
    "\n",
    "# discard() and remove()\n",
    "fl.remove('car')"
   ]
  },
  {
   "cell_type": "code",
   "execution_count": 47,
   "metadata": {},
   "outputs": [],
   "source": [
    "fl.discard('ball')"
   ]
  },
  {
   "cell_type": "code",
   "execution_count": 48,
   "metadata": {},
   "outputs": [
    {
     "data": {
      "text/plain": [
       "{'jasmine', 'lilly', 'rose', 'sunflower'}"
      ]
     },
     "execution_count": 48,
     "metadata": {},
     "output_type": "execute_result"
    }
   ],
   "source": [
    "fl"
   ]
  },
  {
   "cell_type": "code",
   "execution_count": 49,
   "metadata": {},
   "outputs": [],
   "source": [
    "fl.discard('car')"
   ]
  },
  {
   "cell_type": "code",
   "execution_count": 50,
   "metadata": {
    "collapsed": true
   },
   "outputs": [
    {
     "ename": "KeyError",
     "evalue": "'ball'",
     "output_type": "error",
     "traceback": [
      "\u001b[1;31m---------------------------------------------------------------------------\u001b[0m",
      "\u001b[1;31mKeyError\u001b[0m                                  Traceback (most recent call last)",
      "\u001b[1;32m<ipython-input-50-6c142924ecb6>\u001b[0m in \u001b[0;36m<module>\u001b[1;34m\u001b[0m\n\u001b[1;32m----> 1\u001b[1;33m \u001b[0mfl\u001b[0m\u001b[1;33m.\u001b[0m\u001b[0mremove\u001b[0m\u001b[1;33m(\u001b[0m\u001b[1;34m'ball'\u001b[0m\u001b[1;33m)\u001b[0m\u001b[1;33m\u001b[0m\u001b[1;33m\u001b[0m\u001b[0m\n\u001b[0m",
      "\u001b[1;31mKeyError\u001b[0m: 'ball'"
     ]
    }
   ],
   "source": [
    "fl.remove('ball')"
   ]
  },
  {
   "cell_type": "code",
   "execution_count": 52,
   "metadata": {},
   "outputs": [
    {
     "data": {
      "text/plain": [
       "'rose'"
      ]
     },
     "execution_count": 52,
     "metadata": {},
     "output_type": "execute_result"
    }
   ],
   "source": [
    "fl.pop()"
   ]
  },
  {
   "cell_type": "code",
   "execution_count": 53,
   "metadata": {},
   "outputs": [
    {
     "data": {
      "text/plain": [
       "{'lilly', 'sunflower'}"
      ]
     },
     "execution_count": 53,
     "metadata": {},
     "output_type": "execute_result"
    }
   ],
   "source": [
    "fl"
   ]
  },
  {
   "cell_type": "code",
   "execution_count": 54,
   "metadata": {},
   "outputs": [],
   "source": [
    "fl.clear()"
   ]
  },
  {
   "cell_type": "code",
   "execution_count": 55,
   "metadata": {},
   "outputs": [
    {
     "data": {
      "text/plain": [
       "set()"
      ]
     },
     "execution_count": 55,
     "metadata": {},
     "output_type": "execute_result"
    }
   ],
   "source": [
    "fl"
   ]
  },
  {
   "cell_type": "code",
   "execution_count": 56,
   "metadata": {},
   "outputs": [],
   "source": [
    "del fl"
   ]
  },
  {
   "cell_type": "code",
   "execution_count": 57,
   "metadata": {
    "collapsed": true
   },
   "outputs": [
    {
     "ename": "NameError",
     "evalue": "name 'fl' is not defined",
     "output_type": "error",
     "traceback": [
      "\u001b[1;31m---------------------------------------------------------------------------\u001b[0m",
      "\u001b[1;31mNameError\u001b[0m                                 Traceback (most recent call last)",
      "\u001b[1;32m<ipython-input-57-90cff10a9abc>\u001b[0m in \u001b[0;36m<module>\u001b[1;34m\u001b[0m\n\u001b[1;32m----> 1\u001b[1;33m \u001b[0mfl\u001b[0m\u001b[1;33m\u001b[0m\u001b[1;33m\u001b[0m\u001b[0m\n\u001b[0m",
      "\u001b[1;31mNameError\u001b[0m: name 'fl' is not defined"
     ]
    }
   ],
   "source": [
    "fl"
   ]
  },
  {
   "cell_type": "markdown",
   "metadata": {},
   "source": [
    "- intersection_update()\n",
    "- difference_update()\n",
    "- issubset()\n",
    "- issuperset()\n",
    "- isdisjoint()\n",
    "- symmetri_difference_update()"
   ]
  },
  {
   "cell_type": "code",
   "execution_count": 62,
   "metadata": {
    "collapsed": true
   },
   "outputs": [
    {
     "name": "stdout",
     "output_type": "stream",
     "text": [
      "True\n",
      "False\n",
      "True\n",
      "False\n",
      "True\n",
      "False\n"
     ]
    }
   ],
   "source": [
    "a = {1,6,3,8,10}\n",
    "b = {7,3,2,1,5}\n",
    "c = {6,8}\n",
    "\n",
    "# issubset()\n",
    "print(c.issubset(a))\n",
    "print(c.issubset(b))\n",
    "\n",
    "# issuperset()\n",
    "print(a.issuperset(c))\n",
    "print(c.issuperset(a))\n",
    "\n",
    "# isdisjoint()\n",
    "print(b.isdisjoint(c))\n",
    "print(a.isdisjoint(b))"
   ]
  },
  {
   "cell_type": "code",
   "execution_count": 81,
   "metadata": {},
   "outputs": [],
   "source": [
    "a = {1,6,3,8,10}\n",
    "b = {7,3,2,1,5}\n",
    "\n",
    "# difference_update()\n",
    "a.difference_update(b) \n",
    "b.difference_update(a)\n",
    "\n",
    "a = {1,6,3,8,10}\n",
    "b = {7,3,2,1,5}\n",
    "# intersection_update()\n",
    "a.intersection_update(b)\n",
    "b.intersection_update(a)\n",
    "\n",
    "\n",
    "a = {1,6,3,8,10}\n",
    "b = {7,3,2,1,5}\n",
    "# symmetric_difference_update()\n",
    "b.symmetric_difference_update(a)\n",
    "a.symmetric_difference_update(b)"
   ]
  },
  {
   "cell_type": "code",
   "execution_count": 82,
   "metadata": {},
   "outputs": [
    {
     "name": "stdout",
     "output_type": "stream",
     "text": [
      "{1, 2, 3, 5, 7}\n",
      "{2, 5, 6, 7, 8, 10}\n"
     ]
    }
   ],
   "source": [
    "print(a)\n",
    "print(b)"
   ]
  },
  {
   "cell_type": "markdown",
   "metadata": {},
   "source": [
    "## Functions\n",
    "\n",
    "- It is block of code to perform a task.\n",
    "- to reduce the lines of code\n",
    "- we can divide an entire problem into small parts.\n",
    "- Code re-usability.\n",
    "- we use a keyword called **def**\n",
    "    - Syntax: def fun_name(parameters):\n",
    "        -         statements.....\n",
    "                  statements .....\n",
    "              func_name(arguments)\n",
    "- Types of Arguments or parameters:\n",
    "    - Required Arguments\n",
    "    - Default Arguments\n",
    "    - Keyword Arguments\n",
    "    - Varibale length Arguments\n",
    "- Types of Functions:\n",
    "     - 1) Bult-in Functions\n",
    "         - which are already defined in the language\n",
    "         - ex: print(),range(),input()\n",
    "     - 2) User-defined functions\n",
    "         - which are defined or declared by"
   ]
  },
  {
   "cell_type": "code",
   "execution_count": null,
   "metadata": {},
   "outputs": [],
   "source": []
  }
 ],
 "metadata": {
  "kernelspec": {
   "display_name": "Python 3",
   "language": "python",
   "name": "python3"
  },
  "language_info": {
   "codemirror_mode": {
    "name": "ipython",
    "version": 3
   },
   "file_extension": ".py",
   "mimetype": "text/x-python",
   "name": "python",
   "nbconvert_exporter": "python",
   "pygments_lexer": "ipython3",
   "version": "3.7.6"
  }
 },
 "nbformat": 4,
 "nbformat_minor": 4
}
