{
 "cells": [
  {
   "cell_type": "markdown",
   "metadata": {},
   "source": [
    "### Topics:\n",
    "\n",
    "- Functions\n",
    "    - Block of code to perform a task.\n",
    "    - Types of Functions:\n",
    "        - 1. Built-in Functions\n",
    "            - ex: print(),range(),input()...etc\n",
    "        - 2. User Defined Functions\n",
    "    - withe the help of a keyword called **def** \n",
    "    - Syntax: def func_name(parameters):\n",
    "                - body of the func.\n",
    "             - fun_call\n",
    "- Modules\n",
    "    - It is .py file which contains set of functions and classes.\n",
    "    - Types of Modules:\n",
    "        - Built-in modules\n",
    "            - math,random,datetime ...\n",
    "        - user defined modules\n",
    "- Packages\n",
    "    - It is a folder which contains set of or collection of modules.\n",
    "    - Types of Packages:\n",
    "        - Built-in Packages\n",
    "            - datetime,numpy,pandas,pickle,seaborn.....\n",
    "        - User defined"
   ]
  },
  {
   "cell_type": "code",
   "execution_count": 6,
   "metadata": {},
   "outputs": [
    {
     "name": "stdout",
     "output_type": "stream",
     "text": [
      "Good Morning saradhi\n",
      "Good Morning abhinav\n",
      "arjun\n",
      "Good Morning arjun\n"
     ]
    }
   ],
   "source": [
    "## Define a funcions to greet a person.\n",
    "\n",
    "def greet(name): # function definition\n",
    "    print(\"Good Morning\",name)  # function body\n",
    "greet('saradhi') # function calling\n",
    "greet('abhinav')\n",
    "greet(input())"
   ]
  },
  {
   "cell_type": "code",
   "execution_count": 10,
   "metadata": {
    "scrolled": true
   },
   "outputs": [
    {
     "name": "stdout",
     "output_type": "stream",
     "text": [
      "18\n"
     ]
    },
    {
     "data": {
      "text/plain": [
       "[1, 2, 3, 6, 9, 18]"
      ]
     },
     "execution_count": 10,
     "metadata": {},
     "output_type": "execute_result"
    }
   ],
   "source": [
    "# WAP to print factors of a given number.\n",
    "def display_fact(num):\n",
    "    factors = []\n",
    "    for i in range(1,num+1):\n",
    "        if num%i==0:\n",
    "            factors.append(i)\n",
    "    return factors\n",
    "display_fact(int(input()))"
   ]
  },
  {
   "cell_type": "code",
   "execution_count": 24,
   "metadata": {},
   "outputs": [
    {
     "name": "stdout",
     "output_type": "stream",
     "text": [
      "128\n",
      "It's not a perfect number\n"
     ]
    }
   ],
   "source": [
    "# WAP to check a given number if perfect or not\n",
    "def is_perfect(num):\n",
    "    fact_sum = 0\n",
    "    for i in range(1,num):\n",
    "        if num%i==0:\n",
    "            fact_sum += i\n",
    "    if num==fact_sum:\n",
    "        print(\"It it a Perfect Number\")\n",
    "    else:\n",
    "        print(\"It's not a perfect number\")\n",
    "is_perfect(int(input()))"
   ]
  },
  {
   "cell_type": "code",
   "execution_count": 38,
   "metadata": {
    "collapsed": true
   },
   "outputs": [
    {
     "name": "stdout",
     "output_type": "stream",
     "text": [
      "108\n",
      "Not a prime\n"
     ]
    }
   ],
   "source": [
    "## WAP to check whether a given number is prime or not\n",
    "def is_prime(n):\n",
    "    count = 0\n",
    "    for i in range(2,n):\n",
    "        if n%i==0:\n",
    "            count += 1\n",
    "            #print(i)\n",
    "    if count==0:\n",
    "        print(\"Prime\")\n",
    "    else:\n",
    "        print(\"Not a prime\")\n",
    "is_prime(int(input()))"
   ]
  },
  {
   "cell_type": "code",
   "execution_count": 42,
   "metadata": {
    "collapsed": true
   },
   "outputs": [
    {
     "name": "stdout",
     "output_type": "stream",
     "text": [
      "1\n"
     ]
    },
    {
     "data": {
      "text/plain": [
       "True"
      ]
     },
     "execution_count": 42,
     "metadata": {},
     "output_type": "execute_result"
    }
   ],
   "source": [
    "def prime(n):\n",
    "    for i in range(2,n): # 1 and n are excluded.\n",
    "        if n%i==0:\n",
    "            return False\n",
    "    return True\n",
    "prime(int(input()))"
   ]
  },
  {
   "cell_type": "code",
   "execution_count": 67,
   "metadata": {
    "scrolled": false
   },
   "outputs": [
    {
     "name": "stdout",
     "output_type": "stream",
     "text": [
      "True\n",
      "False\n",
      "True\n",
      "True\n"
     ]
    },
    {
     "data": {
      "text/plain": [
       "0.5"
      ]
     },
     "execution_count": 67,
     "metadata": {},
     "output_type": "execute_result"
    }
   ],
   "source": [
    "abs(-5)\n",
    "abs(-10.45)\n",
    "li = [0,False,{1}]\n",
    "t = (\"\",[0.0],0.0)\n",
    "\n",
    "print(any(t)) # it returns true when any one of the sequence elements is true.\n",
    "print(all(t)) # it returns true when all the elements in the sequence are true.\n",
    "\n",
    "\n",
    "li = [{()}]\n",
    "print(any(li))\n",
    "print(all(li))\n",
    "\n",
    "li = [10,11,4,5,0.5]\n",
    "max(li)\n",
    "min(li)"
   ]
  },
  {
   "cell_type": "markdown",
   "metadata": {},
   "source": [
    "## Types of Arugments\n",
    "\n",
    "- Default arguments\n",
    "- Required arguments\n",
    "- Keyword arguments\n",
    "- Variable length arguments."
   ]
  },
  {
   "cell_type": "code",
   "execution_count": 69,
   "metadata": {
    "scrolled": true
   },
   "outputs": [
    {
     "name": "stdout",
     "output_type": "stream",
     "text": [
      "40\n",
      "35\n",
      "17\n"
     ]
    }
   ],
   "source": [
    "def add(a,b=5): # default arguments\n",
    "    print(a+b)\n",
    "add(10,30)\n",
    "add(15,20)\n",
    "add(12)"
   ]
  },
  {
   "cell_type": "code",
   "execution_count": 71,
   "metadata": {
    "collapsed": true
   },
   "outputs": [
    {
     "name": "stdout",
     "output_type": "stream",
     "text": [
      "Name:  siva\n",
      "Age :  24\n",
      "Salary:  100000\n",
      "Name:  abhi\n",
      "Age :  28\n",
      "Salary:  20000\n"
     ]
    }
   ],
   "source": [
    "def info(name,salary,age=28):\n",
    "    print(\"Name: \",name)\n",
    "    print(\"Age : \",age)\n",
    "    print(\"Salary: \",salary)\n",
    "info('siva',100000,24)\n",
    "info('abhi',20000)"
   ]
  },
  {
   "cell_type": "code",
   "execution_count": 74,
   "metadata": {},
   "outputs": [
    {
     "name": "stdout",
     "output_type": "stream",
     "text": [
      "80\n",
      "24\n"
     ]
    }
   ],
   "source": [
    "## Required Arguments\n",
    "def mul(a,b,c):\n",
    "    print(a*b*c)\n",
    "mul(10,2,4)\n",
    "mul(1,4,6)"
   ]
  },
  {
   "cell_type": "code",
   "execution_count": 81,
   "metadata": {
    "scrolled": false
   },
   "outputs": [
    {
     "name": "stdout",
     "output_type": "stream",
     "text": [
      "sai asritha\n",
      "abhinav sai\n"
     ]
    }
   ],
   "source": [
    "def full_name(fn,ln):\n",
    "    print(fn+ln)\n",
    "full_name('sai ','asritha') # sai asritha\n",
    "full_name('abhinav ','sai') # sai abhinav"
   ]
  },
  {
   "cell_type": "code",
   "execution_count": 83,
   "metadata": {},
   "outputs": [
    {
     "name": "stdout",
     "output_type": "stream",
     "text": [
      "arun pvss\n",
      "v sindhu\n"
     ]
    }
   ],
   "source": [
    "## keyword arguments\n",
    "def name(fn,ln):\n",
    "    print(fn+' '+ln)\n",
    "name(fn='arun',ln='pvss')\n",
    "name(ln='sindhu',fn='v')"
   ]
  },
  {
   "cell_type": "code",
   "execution_count": 87,
   "metadata": {
    "collapsed": true
   },
   "outputs": [
    {
     "name": "stdout",
     "output_type": "stream",
     "text": [
      "<class 'tuple'>\n",
      "ece\n",
      "cse\n",
      "mech\n",
      "civil\n",
      "eee\n",
      "it\n"
     ]
    }
   ],
   "source": [
    "## Variable length arguments\n",
    "def branches(*branch):\n",
    "    print(type(branch))\n",
    "    for i in branch:\n",
    "        print(i)\n",
    "branches('ece','cse','mech','civil','eee','it')"
   ]
  },
  {
   "cell_type": "code",
   "execution_count": 103,
   "metadata": {},
   "outputs": [
    {
     "name": "stdout",
     "output_type": "stream",
     "text": [
      "('tuple',)\n"
     ]
    },
    {
     "data": {
      "text/plain": [
       "tuple"
      ]
     },
     "execution_count": 103,
     "metadata": {},
     "output_type": "execute_result"
    }
   ],
   "source": [
    "ti = ('tuple',)\n",
    "print(ti)\n",
    "type(ti)"
   ]
  },
  {
   "cell_type": "code",
   "execution_count": 96,
   "metadata": {},
   "outputs": [
    {
     "data": {
      "text/plain": [
       "list"
      ]
     },
     "execution_count": 96,
     "metadata": {},
     "output_type": "execute_result"
    }
   ],
   "source": [
    "li=[1]\n",
    "type(li)"
   ]
  },
  {
   "cell_type": "code",
   "execution_count": 97,
   "metadata": {
    "scrolled": true
   },
   "outputs": [
    {
     "data": {
      "text/plain": [
       "set"
      ]
     },
     "execution_count": 97,
     "metadata": {},
     "output_type": "execute_result"
    }
   ],
   "source": [
    "s = {1}\n",
    "type(s)"
   ]
  },
  {
   "cell_type": "code",
   "execution_count": 99,
   "metadata": {},
   "outputs": [
    {
     "data": {
      "text/plain": [
       "dict"
      ]
     },
     "execution_count": 99,
     "metadata": {},
     "output_type": "execute_result"
    }
   ],
   "source": [
    "di = {'key':'value'}\n",
    "type(di)"
   ]
  },
  {
   "cell_type": "markdown",
   "metadata": {},
   "source": [
    "- for using any modules functionalities in our jupyter notebook\n",
    "- first we have to import it.\n",
    "- by using a keyword called 'import' we can import the module\n",
    "    - syntax: import module_name\n",
    "            - import module_name as alias_name"
   ]
  },
  {
   "cell_type": "code",
   "execution_count": 111,
   "metadata": {},
   "outputs": [
    {
     "data": {
      "text/plain": [
       "16.0"
      ]
     },
     "execution_count": 111,
     "metadata": {},
     "output_type": "execute_result"
    }
   ],
   "source": [
    "import math\n",
    "math.sqrt(1948942384)\n",
    "math.pow(4,2)"
   ]
  },
  {
   "cell_type": "code",
   "execution_count": 119,
   "metadata": {},
   "outputs": [],
   "source": [
    "import my_module as mm"
   ]
  },
  {
   "cell_type": "code",
   "execution_count": 120,
   "metadata": {},
   "outputs": [
    {
     "data": {
      "text/plain": [
       "True"
      ]
     },
     "execution_count": 120,
     "metadata": {},
     "output_type": "execute_result"
    }
   ],
   "source": [
    "my_module.prime(103) # modulename.funcname(value)"
   ]
  },
  {
   "cell_type": "code",
   "execution_count": 121,
   "metadata": {},
   "outputs": [
    {
     "data": {
      "text/plain": [
       "True"
      ]
     },
     "execution_count": 121,
     "metadata": {},
     "output_type": "execute_result"
    }
   ],
   "source": [
    "my_module.is_Even(298)"
   ]
  },
  {
   "cell_type": "code",
   "execution_count": 123,
   "metadata": {},
   "outputs": [
    {
     "data": {
      "text/plain": [
       "False"
      ]
     },
     "execution_count": 123,
     "metadata": {},
     "output_type": "execute_result"
    }
   ],
   "source": [
    "mm.is_palindrome('malayalam')\n",
    "mm.is_palindrome('sai')"
   ]
  },
  {
   "cell_type": "code",
   "execution_count": null,
   "metadata": {},
   "outputs": [],
   "source": []
  },
  {
   "cell_type": "code",
   "execution_count": null,
   "metadata": {},
   "outputs": [],
   "source": []
  }
 ],
 "metadata": {
  "kernelspec": {
   "display_name": "Python 3",
   "language": "python",
   "name": "python3"
  },
  "language_info": {
   "codemirror_mode": {
    "name": "ipython",
    "version": 3
   },
   "file_extension": ".py",
   "mimetype": "text/x-python",
   "name": "python",
   "nbconvert_exporter": "python",
   "pygments_lexer": "ipython3",
   "version": "3.7.6"
  }
 },
 "nbformat": 4,
 "nbformat_minor": 4
}
