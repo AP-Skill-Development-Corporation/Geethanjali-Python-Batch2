{
 "cells": [
  {
   "cell_type": "markdown",
   "metadata": {},
   "source": [
    "###  File Handling\n",
    "\n",
    "* File is a collection of Records\n",
    "* Python file handling :open,Read,write,append\n",
    "    * Creating a new file\n",
    "    * Write the data\n",
    "    * Read data from the file\n",
    "    * Append data to a file"
   ]
  },
  {
   "cell_type": "markdown",
   "metadata": {},
   "source": [
    "### Mode of operations\n",
    "\n",
    "* 'r' - Read mode which is used when the file is only being read\n",
    "* 'w' - Write mode which is used to edit and write new data to the file(overwrite the existing data)\n",
    "* 'a' - Append mode ,which is used to add new data to end of the file,i.e the new data will be automatically added to existing data\n",
    "* 'r+' - Special read and write mode,which is used to handle both actions when working with files"
   ]
  },
  {
   "cell_type": "markdown",
   "metadata": {},
   "source": [
    "###  In-Built Function:\n",
    "* Open : open(path,mode)\n",
    "* close : file_name.close()"
   ]
  },
  {
   "cell_type": "code",
   "execution_count": 1,
   "metadata": {},
   "outputs": [],
   "source": [
    "# Creating a file\n",
    "\n",
    "book=open('book.txt','w')\n",
    "book.close()\n"
   ]
  },
  {
   "cell_type": "code",
   "execution_count": 2,
   "metadata": {},
   "outputs": [],
   "source": [
    "# creating a file and writing data into a file\n",
    "\n",
    "f=open(\"myfile.txt\",'w')\n",
    "f.write(\"python programming\")\n",
    "f.close()"
   ]
  },
  {
   "cell_type": "code",
   "execution_count": 3,
   "metadata": {},
   "outputs": [],
   "source": [
    "# write --> overwrites existing data\n",
    "\n",
    "f=open(\"myfile.txt\",'w')\n",
    "f.write(\"hello world\")\n",
    "f.close()"
   ]
  },
  {
   "cell_type": "code",
   "execution_count": 4,
   "metadata": {},
   "outputs": [
    {
     "name": "stdout",
     "output_type": "stream",
     "text": [
      "hello world\n"
     ]
    }
   ],
   "source": [
    "#Read file data\n",
    "\n",
    "f=open(\"myfile.txt\",'r')\n",
    "data=f.read()\n",
    "print(data)\n",
    "f.close()"
   ]
  },
  {
   "cell_type": "code",
   "execution_count": null,
   "metadata": {},
   "outputs": [],
   "source": [
    "# read() , readlines(), readline()\n",
    "\n",
    "# read()  --> read all data\n",
    "# readlines()  --> returns all file data lines in the list format\n",
    "# readline()  --> returns a line from a file"
   ]
  },
  {
   "cell_type": "code",
   "execution_count": 5,
   "metadata": {},
   "outputs": [
    {
     "data": {
      "text/plain": [
       "['hello world\\n', 'python programming\\n', 'Learning modules']"
      ]
     },
     "execution_count": 5,
     "metadata": {},
     "output_type": "execute_result"
    }
   ],
   "source": [
    "# Readlines()\n",
    "\n",
    "f=open(\"myfile.txt\",'r')\n",
    "f.readlines()"
   ]
  },
  {
   "cell_type": "code",
   "execution_count": 10,
   "metadata": {},
   "outputs": [
    {
     "data": {
      "text/plain": [
       "'hello world\\n'"
      ]
     },
     "execution_count": 10,
     "metadata": {},
     "output_type": "execute_result"
    }
   ],
   "source": [
    "#readline()\n",
    "\n",
    "f=open(\"myfile.txt\",'r')\n",
    "f.readline()"
   ]
  },
  {
   "cell_type": "code",
   "execution_count": 11,
   "metadata": {},
   "outputs": [],
   "source": [
    " #append\n",
    "\n",
    "f=open(\"myfile.txt\",'a')\n",
    "f.write(\"\\n happy learning\")\n",
    "f.close()"
   ]
  },
  {
   "cell_type": "code",
   "execution_count": 13,
   "metadata": {},
   "outputs": [
    {
     "name": "stdout",
     "output_type": "stream",
     "text": [
      "h\n",
      "e\n",
      "l\n",
      "l\n",
      "o\n",
      " \n",
      "w\n",
      "o\n",
      "r\n",
      "l\n",
      "d\n",
      "\n",
      "\n"
     ]
    }
   ],
   "source": [
    "#Read file data character by character\n",
    "\n",
    "f=open(\"myfile.txt\",'r')\n",
    "data=f.readline()\n",
    "for ch in data:\n",
    "    print(ch)\n"
   ]
  },
  {
   "cell_type": "code",
   "execution_count": 15,
   "metadata": {},
   "outputs": [
    {
     "name": "stdout",
     "output_type": "stream",
     "text": [
      "hello world\n",
      "python programming\n",
      "Learning modules\n",
      " happy learning\n",
      " happy learninggood morning\n"
     ]
    }
   ],
   "source": [
    "# r+ --> read and write\n",
    "\n",
    "f=open(\"myfile.txt\",'r+')\n",
    "print(f.read())\n",
    "f.write(\"good morning\")\n",
    "f.close()"
   ]
  },
  {
   "cell_type": "code",
   "execution_count": 18,
   "metadata": {},
   "outputs": [
    {
     "name": "stdout",
     "output_type": "stream",
     "text": [
      "number of file lines:  5\n"
     ]
    }
   ],
   "source": [
    "# write a python program to find no of lines in a files\n",
    "\n",
    "f=open(\"myfile.txt\",'r')\n",
    "data=f.readlines()\n",
    "nol=len(data)\n",
    "print(\"number of file lines: \",nol)\n",
    "f.close()"
   ]
  },
  {
   "cell_type": "code",
   "execution_count": 21,
   "metadata": {},
   "outputs": [
    {
     "name": "stdout",
     "output_type": "stream",
     "text": [
      "no of characters:  103\n"
     ]
    }
   ],
   "source": [
    "# no of characters in a file\n",
    "\n",
    "f=open(\"myfile.txt\",'r')\n",
    "data=f.read()\n",
    "l=len(data)\n",
    "print(\"no of characters: \",l)\n",
    "f.close()"
   ]
  },
  {
   "cell_type": "code",
   "execution_count": 24,
   "metadata": {},
   "outputs": [
    {
     "name": "stdout",
     "output_type": "stream",
     "text": [
      "['hello', 'world', 'python', 'programming', 'Learning', 'modules', 'happy', 'learning', 'happy', 'learning', 'good', 'morning', 'good', 'morning']\n",
      "no of words:  14\n"
     ]
    }
   ],
   "source": [
    "# no of words \n",
    "\n",
    "f=open(\"myfile.txt\",'r')\n",
    "data=f.read()\n",
    "words=data.split()\n",
    "print(words)\n",
    "l=len(words)\n",
    "print(\"no of words: \",l)"
   ]
  },
  {
   "cell_type": "code",
   "execution_count": 23,
   "metadata": {},
   "outputs": [
    {
     "data": {
      "text/plain": [
       "['hello', 'world']"
      ]
     },
     "execution_count": 23,
     "metadata": {},
     "output_type": "execute_result"
    }
   ],
   "source": [
    "s=\"hello world\"\n",
    "s.split()"
   ]
  },
  {
   "cell_type": "code",
   "execution_count": 27,
   "metadata": {},
   "outputs": [],
   "source": [
    "# add 60 students\n",
    "\n",
    "f1=open(\"students.txt\",'w')\n",
    "for i in range(1,61):\n",
    "    f1.write(\"student %f \\n\" %(i))\n",
    "f1.close()"
   ]
  },
  {
   "cell_type": "markdown",
   "metadata": {},
   "source": [
    "### Methods in file handling\n",
    "\n",
    "* tell() - returns the current location of the file pointer\n",
    "* seek() - we can set the pointer at a specific location\n",
    "\n",
    "** seek(offset,from_what)\n",
    "    * offset : no of positions to move forward\n",
    "    * from_what : defines pointer reference\n",
    "    \n",
    "      * 0: set reference pointer at the begining of the file\n",
    "      * 1: set reference pointer at the current file position\n",
    "      * 2: set reference pointer at the end of the file\n"
   ]
  },
  {
   "cell_type": "code",
   "execution_count": 29,
   "metadata": {},
   "outputs": [
    {
     "name": "stdout",
     "output_type": "stream",
     "text": [
      "0\n",
      "hello world\n",
      "\n",
      "12\n"
     ]
    }
   ],
   "source": [
    "f=open(\"myfile.txt\",'r')\n",
    "print(f.tell())\n",
    "print(f.readline())\n",
    "print(f.tell())"
   ]
  },
  {
   "cell_type": "code",
   "execution_count": 30,
   "metadata": {},
   "outputs": [
    {
     "data": {
      "text/plain": [
       "10"
      ]
     },
     "execution_count": 30,
     "metadata": {},
     "output_type": "execute_result"
    }
   ],
   "source": [
    "f=open(\"myfile.txt\",'r')\n",
    "f.seek(10)"
   ]
  },
  {
   "cell_type": "code",
   "execution_count": 32,
   "metadata": {},
   "outputs": [
    {
     "name": "stdout",
     "output_type": "stream",
     "text": [
      "spl character count is:  7\n"
     ]
    }
   ],
   "source": [
    "#write a program to print special characters count from a file\n",
    "\n",
    "f=open(\"myfile.txt\",'r')\n",
    "count=0\n",
    "data=f.read()\n",
    "for i in data:\n",
    "    if i.isalnum()==False and i!=' ':\n",
    "        count+=1\n",
    "print(\"spl character count is: \",count)"
   ]
  },
  {
   "cell_type": "markdown",
   "metadata": {},
   "source": [
    "### Iterators and generators"
   ]
  },
  {
   "cell_type": "markdown",
   "metadata": {},
   "source": [
    "#### Iterator in python is simply an object that can be iterated upon\n",
    "* An object which will return data,one element at a time\n",
    "* Iterators have 2 special methods,iter(),next()\n",
    "\n",
    "* iter() --> Creates an iterator object\n",
    "* next() --> return one element at a time, iterates through all the items of an iterator\n",
    "\n",
    "* When we reach end , and no data is there to iterate then it will raise the StopItreration Exception"
   ]
  },
  {
   "cell_type": "code",
   "execution_count": 40,
   "metadata": {},
   "outputs": [
    {
     "name": "stdout",
     "output_type": "stream",
     "text": [
      "1 2 3 4 5 6 7 8 9 10 "
     ]
    }
   ],
   "source": [
    "for i in range(1,11):\n",
    "    print(i,end=\" \")"
   ]
  },
  {
   "cell_type": "code",
   "execution_count": 41,
   "metadata": {},
   "outputs": [
    {
     "data": {
      "text/plain": [
       "<list_iterator at 0x765d688>"
      ]
     },
     "execution_count": 41,
     "metadata": {},
     "output_type": "execute_result"
    }
   ],
   "source": [
    "li=[90,89,7]\n",
    "io=iter(li)  #iterator object\n",
    "io"
   ]
  },
  {
   "cell_type": "code",
   "execution_count": 42,
   "metadata": {},
   "outputs": [
    {
     "name": "stdout",
     "output_type": "stream",
     "text": [
      "90\n",
      "89\n",
      "7\n"
     ]
    }
   ],
   "source": [
    "print(next(io))\n",
    "print(next(io))\n",
    "print(next(io))"
   ]
  },
  {
   "cell_type": "code",
   "execution_count": 43,
   "metadata": {},
   "outputs": [
    {
     "ename": "StopIteration",
     "evalue": "",
     "output_type": "error",
     "traceback": [
      "\u001b[1;31m---------------------------------------------------------------------------\u001b[0m",
      "\u001b[1;31mStopIteration\u001b[0m                             Traceback (most recent call last)",
      "\u001b[1;32m<ipython-input-43-5cfc3373bd12>\u001b[0m in \u001b[0;36m<module>\u001b[1;34m\u001b[0m\n\u001b[1;32m----> 1\u001b[1;33m \u001b[0mprint\u001b[0m\u001b[1;33m(\u001b[0m\u001b[0mnext\u001b[0m\u001b[1;33m(\u001b[0m\u001b[0mio\u001b[0m\u001b[1;33m)\u001b[0m\u001b[1;33m)\u001b[0m\u001b[1;33m\u001b[0m\u001b[1;33m\u001b[0m\u001b[0m\n\u001b[0m",
      "\u001b[1;31mStopIteration\u001b[0m: "
     ]
    }
   ],
   "source": [
    "print(next(io))"
   ]
  },
  {
   "cell_type": "code",
   "execution_count": 44,
   "metadata": {},
   "outputs": [
    {
     "data": {
      "text/plain": [
       "[90, 89, 7]"
      ]
     },
     "execution_count": 44,
     "metadata": {},
     "output_type": "execute_result"
    }
   ],
   "source": [
    "li"
   ]
  },
  {
   "cell_type": "code",
   "execution_count": 45,
   "metadata": {},
   "outputs": [
    {
     "name": "stdout",
     "output_type": "stream",
     "text": [
      "90 89 7 "
     ]
    }
   ],
   "source": [
    "ite=iter(li)  #custom iterator\n",
    "\n",
    "while True:\n",
    "    try: \n",
    "        item=next(ite)\n",
    "        print(item,end=\" \")\n",
    "    except StopIteration:\n",
    "        break"
   ]
  },
  {
   "cell_type": "code",
   "execution_count": 51,
   "metadata": {},
   "outputs": [
    {
     "data": {
      "text/plain": [
       "1"
      ]
     },
     "execution_count": 51,
     "metadata": {},
     "output_type": "execute_result"
    }
   ],
   "source": [
    "l=[i for i in range(1,11)]\n",
    "lit=iter(l)\n",
    "next(lit)"
   ]
  },
  {
   "cell_type": "code",
   "execution_count": 52,
   "metadata": {},
   "outputs": [
    {
     "data": {
      "text/plain": [
       "[2, 3, 4, 5, 6, 7, 8, 9, 10]"
      ]
     },
     "execution_count": 52,
     "metadata": {},
     "output_type": "execute_result"
    }
   ],
   "source": [
    "list(lit)"
   ]
  },
  {
   "cell_type": "markdown",
   "metadata": {},
   "source": [
    "### Generators \n",
    "\n",
    "* Generator  is a function that returns an object which we can iterate over,in place of return we will use yield\n",
    "* any function which contains atleast one yield is considered as generator\n",
    "* Uses: Easy to implement and memory efficient"
   ]
  },
  {
   "cell_type": "code",
   "execution_count": 53,
   "metadata": {},
   "outputs": [
    {
     "name": "stdout",
     "output_type": "stream",
     "text": [
      "1\n",
      "2\n",
      "3\n"
     ]
    }
   ],
   "source": [
    "def gen():\n",
    "    n=1\n",
    "    yield n\n",
    "    n+=1\n",
    "    yield n\n",
    "    n+=1\n",
    "    yield n\n",
    "    \n",
    "for i in gen():\n",
    "    print(i)"
   ]
  },
  {
   "cell_type": "code",
   "execution_count": 55,
   "metadata": {},
   "outputs": [
    {
     "name": "stdout",
     "output_type": "stream",
     "text": [
      "enter a number: 4\n"
     ]
    },
    {
     "data": {
      "text/plain": [
       "16"
      ]
     },
     "execution_count": 55,
     "metadata": {},
     "output_type": "execute_result"
    }
   ],
   "source": [
    "# squares of given number\n",
    "\n",
    "n=int(input(\"enter a number: \"))\n",
    "def gen(n):\n",
    "    while True:\n",
    "        n **= 2\n",
    "        yield n\n",
    "        \n",
    "g=gen(n)\n",
    "next(g)\n",
    "        "
   ]
  },
  {
   "cell_type": "code",
   "execution_count": 56,
   "metadata": {},
   "outputs": [
    {
     "name": "stdout",
     "output_type": "stream",
     "text": [
      "<generator object <genexpr> at 0x0000000006DD39C8>\n"
     ]
    }
   ],
   "source": [
    "# generator comprehension\n",
    "\n",
    "l=[1,2,3,4,5]\n",
    "c=(i**3 for i in  l)\n",
    "print(c)"
   ]
  },
  {
   "cell_type": "code",
   "execution_count": 57,
   "metadata": {},
   "outputs": [
    {
     "name": "stdout",
     "output_type": "stream",
     "text": [
      "1\n",
      "8\n",
      "27\n",
      "64\n",
      "125\n"
     ]
    }
   ],
   "source": [
    "for i in c:\n",
    "    print(i)"
   ]
  },
  {
   "cell_type": "code",
   "execution_count": null,
   "metadata": {},
   "outputs": [],
   "source": []
  }
 ],
 "metadata": {
  "kernelspec": {
   "display_name": "Python 3",
   "language": "python",
   "name": "python3"
  },
  "language_info": {
   "codemirror_mode": {
    "name": "ipython",
    "version": 3
   },
   "file_extension": ".py",
   "mimetype": "text/x-python",
   "name": "python",
   "nbconvert_exporter": "python",
   "pygments_lexer": "ipython3",
   "version": "3.7.6"
  }
 },
 "nbformat": 4,
 "nbformat_minor": 4
}
