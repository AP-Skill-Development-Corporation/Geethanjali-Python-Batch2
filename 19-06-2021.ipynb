{
 "cells": [
  {
   "cell_type": "markdown",
   "metadata": {},
   "source": [
    "## Topics:\n",
    "\n",
    "- How can we create a user defined pakage ?\n",
    "    - import package_name.module_name\n",
    "    - import package_name.module_name as alias_name\n",
    "    - from package_name import module_name\n",
    "    - from package_name import module_name as alias_name\n",
    "- Lambda\n",
    "- filter\n",
    "- map\n",
    "- list comprehensions\n",
    "- files & file handling."
   ]
  },
  {
   "cell_type": "code",
   "execution_count": 18,
   "metadata": {},
   "outputs": [],
   "source": [
    "from new_package import *"
   ]
  },
  {
   "cell_type": "code",
   "execution_count": 19,
   "metadata": {},
   "outputs": [
    {
     "data": {
      "text/plain": [
       "False"
      ]
     },
     "execution_count": 19,
     "metadata": {},
     "output_type": "execute_result"
    }
   ],
   "source": [
    "module_2.square(144)\n",
    "module_2.mul(2,4)\n",
    "\n",
    "m2.avg([10,34,2,6,89])\n",
    "\n",
    "my_module.is_Even(123)"
   ]
  },
  {
   "cell_type": "markdown",
   "metadata": {},
   "source": [
    "### Lambda\n",
    "\n",
    "- Anonymous functions --> nameless functions.\n",
    "- lambda arguments: expression\n",
    "- higher order functions: if a functions allows any other function as an arguments."
   ]
  },
  {
   "cell_type": "code",
   "execution_count": 20,
   "metadata": {
    "scrolled": true
   },
   "outputs": [
    {
     "name": "stdout",
     "output_type": "stream",
     "text": [
      "2 4 6 8 10 "
     ]
    }
   ],
   "source": [
    "# if we want to create a list of even numbers.\n",
    "for i in range(1,11):\n",
    "    if i%2==0:\n",
    "        print(i,end=\" \")"
   ]
  },
  {
   "cell_type": "code",
   "execution_count": 27,
   "metadata": {},
   "outputs": [
    {
     "name": "stdout",
     "output_type": "stream",
     "text": [
      "[1, 2, 3, 4, 5, 6, 7, 8, 9, 10]\n"
     ]
    }
   ],
   "source": [
    "li = [i for i in range(1,11)]\n",
    "print(li)"
   ]
  },
  {
   "cell_type": "code",
   "execution_count": 29,
   "metadata": {
    "scrolled": true
   },
   "outputs": [
    {
     "name": "stdout",
     "output_type": "stream",
     "text": [
      "[1, 3, 5, 7, 9, 11, 13]\n"
     ]
    }
   ],
   "source": [
    "# if condition\n",
    "even = [i for i in range(1,15) if i%2!=0]\n",
    "print(even)"
   ]
  },
  {
   "cell_type": "code",
   "execution_count": 33,
   "metadata": {
    "collapsed": true
   },
   "outputs": [
    {
     "name": "stdout",
     "output_type": "stream",
     "text": [
      "[15, 'even', 17, 'even', 19, 'even', 21, 'even', 23, 'even']\n",
      "[1, 'even', 3, 'even', 5, 'even', 7, 'even', 9, 'even']\n"
     ]
    }
   ],
   "source": [
    "## if else condition\n",
    "new = [\"even\" if n%2==0 else n for n in range(15,25)]\n",
    "print(new)\n",
    "\n",
    "l = []\n",
    "for n in range(1,11):\n",
    "    if n%2==0:\n",
    "        l.append(\"even\")\n",
    "    else:\n",
    "        l.append(n)\n",
    "print(l)"
   ]
  },
  {
   "cell_type": "code",
   "execution_count": 35,
   "metadata": {
    "scrolled": false
   },
   "outputs": [
    {
     "name": "stdout",
     "output_type": "stream",
     "text": [
      "madam\n",
      "dad\n",
      "level\n",
      "['madam', 'dad', 'level']\n"
     ]
    }
   ],
   "source": [
    "# palindrome list\n",
    "li=['python','madam',\"dad\",\"level\",\"workshop\",\"program\"]\n",
    "\n",
    "for i in li:\n",
    "    if i==i[::-1]:\n",
    "        print(i)\n",
    "        \n",
    "palin = [w for w in li if w==w[::-1]]\n",
    "print(palin)"
   ]
  },
  {
   "cell_type": "code",
   "execution_count": 48,
   "metadata": {
    "collapsed": true
   },
   "outputs": [
    {
     "data": {
      "text/plain": [
       "[1.0,\n",
       " 1.4142135623730951,\n",
       " 1.7320508075688772,\n",
       " 2.0,\n",
       " 2.23606797749979,\n",
       " 2.449489742783178]"
      ]
     },
     "execution_count": 48,
     "metadata": {},
     "output_type": "execute_result"
    }
   ],
   "source": [
    "# print the square values of all the elements in a given list\n",
    "li = [1,2,3,4,5,6]\n",
    "\n",
    "sq = [i**0.5 for i in li]\n",
    "sq"
   ]
  },
  {
   "cell_type": "code",
   "execution_count": 57,
   "metadata": {},
   "outputs": [
    {
     "data": {
      "text/plain": [
       "35"
      ]
     },
     "execution_count": 57,
     "metadata": {},
     "output_type": "execute_result"
    }
   ],
   "source": [
    "# lambda arguments:expression\n",
    "# add two numbers\n",
    "add = lambda x,y,z:(x%y)*5\n",
    "add(17,10,5)"
   ]
  },
  {
   "cell_type": "code",
   "execution_count": 59,
   "metadata": {
    "scrolled": true
   },
   "outputs": [
    {
     "name": "stdout",
     "output_type": "stream",
     "text": [
      "100\n",
      "1000\n"
     ]
    }
   ],
   "source": [
    "def func(num):\n",
    "    return lambda a:num**a\n",
    "\n",
    "sqr = func(10)\n",
    "cube = func(10)\n",
    "\n",
    "print(sqr(2))\n",
    "print(cube(3))"
   ]
  },
  {
   "cell_type": "markdown",
   "metadata": {},
   "source": [
    "## filter(),map()\n",
    "\n",
    "- filter() --> filter(func,sequence)\n",
    "- map() --> to map any entity to a function."
   ]
  },
  {
   "cell_type": "code",
   "execution_count": 70,
   "metadata": {},
   "outputs": [
    {
     "name": "stdout",
     "output_type": "stream",
     "text": [
      "(1, 3, 5, 7, 9)\n",
      "[17, 23, 12, 19, 30, 14, 18, 14, 18, 30]\n"
     ]
    }
   ],
   "source": [
    "li = [1,2,3,4,5,6,7,8,9,10]\n",
    "\n",
    "even_list = list(filter(lambda x:x%2==0,li))\n",
    "#print(tuple(even_list))\n",
    "\n",
    "odd_list = tuple(filter(lambda i:i%2!=0,li))\n",
    "print(odd_list)"
   ]
  },
  {
   "cell_type": "code",
   "execution_count": 67,
   "metadata": {},
   "outputs": [
    {
     "name": "stdout",
     "output_type": "stream",
     "text": [
      "[2, 4, 6, 8, 10, 12, 14, 16, 18, 20]\n"
     ]
    }
   ],
   "source": [
    "new = list(map(lambda i:i+i,li))\n",
    "print(new)"
   ]
  },
  {
   "cell_type": "code",
   "execution_count": 79,
   "metadata": {
    "collapsed": true
   },
   "outputs": [
    {
     "name": "stdout",
     "output_type": "stream",
     "text": [
      "[12, 17, 22, 19, 11, 18, 17, 23, 20, 28]\n",
      "[22, 19, 18, 23, 20, 28]\n",
      "[False, False, True, True, False, True, False, True, True, True]\n",
      "[0, 0, 1, 1, 0, 1, 0, 1, 1, 1]\n"
     ]
    }
   ],
   "source": [
    "\n",
    "from random import randint\n",
    "ages = [randint(10,30) for i in range(10)]\n",
    "print(ages)\n",
    "new_li = list(filter(lambda a:a>=18,ages))\n",
    "new = list(map(lambda a:a>=18,ages))\n",
    "nw_li = list(map(int,new))\n",
    "print(new_li)\n",
    "print(new)\n",
    "print(nw_li)"
   ]
  },
  {
   "cell_type": "code",
   "execution_count": 87,
   "metadata": {
    "scrolled": true
   },
   "outputs": [
    {
     "name": "stdout",
     "output_type": "stream",
     "text": [
      "[1, 8, 27, 64, 125, 216, 343, 512, 729, 1000]\n",
      "(6, 8, 10, 12, 14)\n"
     ]
    }
   ],
   "source": [
    "li = range(1,8)\n",
    "cube = list(map(lambda x:x**3,range(1,11)))\n",
    "print(cube)\n",
    "\n",
    "li1 = [1,2,3,4,5]\n",
    "li2 = [5,6,7,8,9]\n",
    "\n",
    "li = tuple(map(lambda a,b:a+b,li1,li2))\n",
    "print(li)"
   ]
  },
  {
   "cell_type": "markdown",
   "metadata": {},
   "source": [
    "## Files & File Handling\n",
    "\n",
    "- Definition: It is names location in the memory used to store data.\n",
    "- Types of files:\n",
    "    - binary files\n",
    "    - text files\n",
    "    - media files (video audio image)\n",
    "    - csv files\n",
    "    - excel files\n",
    "    - pdf\n",
    "    - ppt\n",
    "- Modes\n",
    "    - read mode(r)(default mode) ==> they can only read the file.\n",
    "    - write mode(w) ==> users can read and write to a file.\n",
    "    - append mode(a) ==> read & write\n",
    "    - r+ ==> read and write\n",
    "\n",
    "- File Handling:\n",
    "     - we will preform all the CRUD operations\n",
    "         - C --> create\n",
    "         - R --> read\n",
    "         - U --> update\n",
    "         - D --> delete\n",
    "         \n",
    "         \n",
    "- how to open a file ?\n",
    "    - open('filename','mode')\n",
    "    - write() ==> for writing to a file and appending we use write() method only.\n",
    "\n",
    "- How to read the data from a file?\n",
    "    - file_object.read() --> this will read the entire data from a file.\n",
    "    \n",
    "    \n",
    "- Precautions:\n",
    "    - Open the file   (open method)\n",
    "    - Perform Operations on the file  (read,write)\n",
    "    - close the file (close)"
   ]
  },
  {
   "cell_type": "code",
   "execution_count": 92,
   "metadata": {
    "scrolled": true
   },
   "outputs": [
    {
     "name": "stdout",
     "output_type": "stream",
     "text": [
      "successfully opened\n"
     ]
    }
   ],
   "source": [
    "f = open('file.txt')\n",
    "if f:\n",
    "    print(\"successfully opened\")\n",
    "else:\n",
    "    print(\"Sorry!! try again\")"
   ]
  },
  {
   "cell_type": "code",
   "execution_count": 94,
   "metadata": {},
   "outputs": [
    {
     "name": "stdout",
     "output_type": "stream",
     "text": [
      "\n"
     ]
    }
   ],
   "source": [
    "data = f.read()\n",
    "print(data)\n",
    "f.close()"
   ]
  },
  {
   "cell_type": "code",
   "execution_count": 95,
   "metadata": {
    "scrolled": true
   },
   "outputs": [
    {
     "ename": "ValueError",
     "evalue": "I/O operation on closed file.",
     "output_type": "error",
     "traceback": [
      "\u001b[1;31m---------------------------------------------------------------------------\u001b[0m",
      "\u001b[1;31mValueError\u001b[0m                                Traceback (most recent call last)",
      "\u001b[1;32m<ipython-input-95-571e9fb02258>\u001b[0m in \u001b[0;36m<module>\u001b[1;34m\u001b[0m\n\u001b[1;32m----> 1\u001b[1;33m \u001b[0mf\u001b[0m\u001b[1;33m.\u001b[0m\u001b[0mread\u001b[0m\u001b[1;33m(\u001b[0m\u001b[1;33m)\u001b[0m\u001b[1;33m\u001b[0m\u001b[1;33m\u001b[0m\u001b[0m\n\u001b[0m",
      "\u001b[1;31mValueError\u001b[0m: I/O operation on closed file."
     ]
    }
   ],
   "source": [
    "f.read()"
   ]
  },
  {
   "cell_type": "code",
   "execution_count": null,
   "metadata": {},
   "outputs": [],
   "source": []
  },
  {
   "cell_type": "code",
   "execution_count": null,
   "metadata": {},
   "outputs": [],
   "source": []
  }
 ],
 "metadata": {
  "kernelspec": {
   "display_name": "Python 3",
   "language": "python",
   "name": "python3"
  },
  "language_info": {
   "codemirror_mode": {
    "name": "ipython",
    "version": 3
   },
   "file_extension": ".py",
   "mimetype": "text/x-python",
   "name": "python",
   "nbconvert_exporter": "python",
   "pygments_lexer": "ipython3",
   "version": "3.7.6"
  }
 },
 "nbformat": 4,
 "nbformat_minor": 4
}
