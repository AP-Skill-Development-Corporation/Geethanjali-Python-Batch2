{
 "cells": [
  {
   "cell_type": "markdown",
   "metadata": {},
   "source": [
    "## Day Objectives:\n",
    "\n",
    "\n",
    "\n",
    "\n",
    "**sindhuja** or __sindhuja__\n",
    "\n",
    "*apssdc* or _apssdc_\n",
    "\n",
    "***bold&italic***  or ___bold&italic___\n",
    "\n",
    "* Markdown Basics\n",
    "    * Lists\n",
    "        * Ordered Lists\n",
    "        * Un-Ordered lists\n",
    "    * Image insertion\n",
    "    * links\n",
    "    * tables\n",
    "* Python Basics\n",
    "\n",
    "#### Image Insertion\n",
    "\n",
    "![Python-Logo](python_logo.jpg)\n",
    "\n",
    "#### links\n",
    "\n",
    "[Click Here](www.google.com)"
   ]
  },
  {
   "cell_type": "markdown",
   "metadata": {},
   "source": [
    "## Python Basics\n",
    "\n",
    "- print() ==> this method used to display prompt in python.\n",
    "- variables\n",
    "- keywords\n",
    "- input/ouput\n",
    "- operators\n",
    "- type conversions"
   ]
  },
  {
   "cell_type": "code",
   "execution_count": 1,
   "metadata": {},
   "outputs": [
    {
     "name": "stdout",
     "output_type": "stream",
     "text": [
      "geethanjali college\n",
      "100\n",
      "120.5\n",
      "100\n"
     ]
    }
   ],
   "source": [
    "print('geethanjali college')\n",
    "print(100)\n",
    "print(120.5)\n",
    "print('100')"
   ]
  },
  {
   "cell_type": "code",
   "execution_count": 2,
   "metadata": {},
   "outputs": [
    {
     "name": "stdout",
     "output_type": "stream",
     "text": [
      "['False', 'None', 'True', 'and', 'as', 'assert', 'async', 'await', 'break', 'class', 'continue', 'def', 'del', 'elif', 'else', 'except', 'finally', 'for', 'from', 'global', 'if', 'import', 'in', 'is', 'lambda', 'nonlocal', 'not', 'or', 'pass', 'raise', 'return', 'try', 'while', 'with', 'yield']\n"
     ]
    }
   ],
   "source": [
    "import keyword\n",
    "print(keyword.kwlist)"
   ]
  },
  {
   "cell_type": "markdown",
   "metadata": {},
   "source": [
    "## Variables:\n",
    " - It is a named location in memory where we can store values like str,int,floate etc..\n",
    " - Variable Naming Rules:\n",
    "     - Variable name shoud start with characters or underscore and not with numbers or special characters (*,#,@ ...)\n",
    "     - We can't use Keywords as variable names.\n",
    "     - it doesn't contain special characters.\n",
    "     - examples: correct ===> a, _a, a1, a_1 \n",
    "     -           wrong  ===> @a , 2a, 12, & "
   ]
  },
  {
   "cell_type": "code",
   "execution_count": 3,
   "metadata": {},
   "outputs": [
    {
     "name": "stdout",
     "output_type": "stream",
     "text": [
      "10 13 11\n"
     ]
    }
   ],
   "source": [
    "_a1 = 10\n",
    "_a = 13\n",
    "a = 11\n",
    "print(_a1,_a,a)"
   ]
  },
  {
   "cell_type": "code",
   "execution_count": 4,
   "metadata": {},
   "outputs": [
    {
     "ename": "SyntaxError",
     "evalue": "invalid syntax (<ipython-input-4-f73edb23e0aa>, line 1)",
     "output_type": "error",
     "traceback": [
      "\u001b[1;36m  File \u001b[1;32m\"<ipython-input-4-f73edb23e0aa>\"\u001b[1;36m, line \u001b[1;32m1\u001b[0m\n\u001b[1;33m    2a = 6\u001b[0m\n\u001b[1;37m     ^\u001b[0m\n\u001b[1;31mSyntaxError\u001b[0m\u001b[1;31m:\u001b[0m invalid syntax\n"
     ]
    }
   ],
   "source": [
    "2a = 6\n",
    "print(2a)"
   ]
  },
  {
   "cell_type": "code",
   "execution_count": 5,
   "metadata": {},
   "outputs": [
    {
     "name": "stdout",
     "output_type": "stream",
     "text": [
      "geethanjali 98.7 65\n"
     ]
    }
   ],
   "source": [
    "# single variable assignment\n",
    "s = \"geethanjali\"\n",
    "f = 98.7\n",
    "i = 65\n",
    "\n",
    "print(s,f,i)"
   ]
  },
  {
   "cell_type": "code",
   "execution_count": null,
   "metadata": {},
   "outputs": [],
   "source": [
    "# multi variable assignment\n",
    "a,b,c = 4,5,6\n",
    "print(a,b,c)\n",
    "\n",
    "x,y,z,u = 'arun',9.8,34,32\n",
    "print(z)"
   ]
  },
  {
   "cell_type": "markdown",
   "metadata": {},
   "source": [
    "## Data types:\n",
    "\n",
    "- Numbers\n",
    "    - integer ==> 100,2,30\n",
    "    - float ==> 54.6,90.4 etc..\n",
    "    - complex ==> 1+3j , 6i ...\n",
    "- Characters\n",
    "    - Strings\n",
    "    \n",
    "    \n",
    "- type() ==> this method tells us what is the data type of a given variable."
   ]
  },
  {
   "cell_type": "code",
   "execution_count": 11,
   "metadata": {},
   "outputs": [
    {
     "data": {
      "text/plain": [
       "str"
      ]
     },
     "execution_count": 11,
     "metadata": {},
     "output_type": "execute_result"
    }
   ],
   "source": [
    "name = \"chandu\"\n",
    "age = 21\n",
    "height = 5.4\n",
    "\n",
    "type(height)\n",
    "type(age)\n",
    "type(name)"
   ]
  },
  {
   "cell_type": "markdown",
   "metadata": {},
   "source": [
    "## Type Conversion\n",
    "\n",
    "- int ==> float,str\n",
    "- float ==> int,str\n",
    "- str ==> we can't\n",
    "    - num_str ==> int,float\n",
    "    \n",
    "- For converting any type into integer\n",
    "    - int(variable_name) or int(value)\n",
    "- For any data type to float\n",
    "    - float(var_name) or float(value)\n",
    "- For any data type to string\n",
    "     - str(var_name) or str(value)"
   ]
  },
  {
   "cell_type": "code",
   "execution_count": 18,
   "metadata": {},
   "outputs": [
    {
     "ename": "ValueError",
     "evalue": "invalid literal for int() with base 10: 'chandu'",
     "output_type": "error",
     "traceback": [
      "\u001b[1;31m---------------------------------------------------------------------------\u001b[0m",
      "\u001b[1;31mValueError\u001b[0m                                Traceback (most recent call last)",
      "\u001b[1;32m<ipython-input-18-08dd9e304155>\u001b[0m in \u001b[0;36m<module>\u001b[1;34m\u001b[0m\n\u001b[0;32m     12\u001b[0m \u001b[1;33m\u001b[0m\u001b[0m\n\u001b[0;32m     13\u001b[0m \u001b[1;31m# str ==> int,float ==> not possible.\u001b[0m\u001b[1;33m\u001b[0m\u001b[1;33m\u001b[0m\u001b[1;33m\u001b[0m\u001b[0m\n\u001b[1;32m---> 14\u001b[1;33m \u001b[0mint\u001b[0m\u001b[1;33m(\u001b[0m\u001b[0mname\u001b[0m\u001b[1;33m)\u001b[0m\u001b[1;33m\u001b[0m\u001b[1;33m\u001b[0m\u001b[0m\n\u001b[0m\u001b[0;32m     15\u001b[0m \u001b[0mfloat\u001b[0m\u001b[1;33m(\u001b[0m\u001b[0mname\u001b[0m\u001b[1;33m)\u001b[0m\u001b[1;33m\u001b[0m\u001b[1;33m\u001b[0m\u001b[0m\n",
      "\u001b[1;31mValueError\u001b[0m: invalid literal for int() with base 10: 'chandu'"
     ]
    }
   ],
   "source": [
    "name = \"chandu\"\n",
    "age = 21\n",
    "height = 5.4\n",
    "\n",
    "# age ==> float , str\n",
    "float(age)\n",
    "str(age)\n",
    "\n",
    "# height ==> int,str\n",
    "int(height)\n",
    "str(height)\n",
    "\n",
    "# str ==> int,float ==> not possible.\n",
    "int(name)\n",
    "float(name)"
   ]
  },
  {
   "cell_type": "code",
   "execution_count": 23,
   "metadata": {},
   "outputs": [
    {
     "name": "stdout",
     "output_type": "stream",
     "text": [
      "<class 'str'>\n"
     ]
    },
    {
     "data": {
      "text/plain": [
       "13048238.0"
      ]
     },
     "execution_count": 23,
     "metadata": {},
     "output_type": "execute_result"
    }
   ],
   "source": [
    "num_str = '13048238'\n",
    "print(type(num_str))\n",
    "int(num_str)\n",
    "float(num_str)"
   ]
  },
  {
   "cell_type": "code",
   "execution_count": 29,
   "metadata": {},
   "outputs": [
    {
     "name": "stdout",
     "output_type": "stream",
     "text": [
      "Enter ur Age: 50\n",
      "50\n"
     ]
    },
    {
     "data": {
      "text/plain": [
       "int"
      ]
     },
     "execution_count": 29,
     "metadata": {},
     "output_type": "execute_result"
    }
   ],
   "source": [
    "## taking input from the user.\n",
    "age = int(input(\"Enter ur Age: \"))\n",
    "print(age)\n",
    "type(age)"
   ]
  },
  {
   "cell_type": "code",
   "execution_count": null,
   "metadata": {},
   "outputs": [],
   "source": []
  },
  {
   "cell_type": "code",
   "execution_count": null,
   "metadata": {},
   "outputs": [],
   "source": []
  }
 ],
 "metadata": {
  "kernelspec": {
   "display_name": "Python 3",
   "language": "python",
   "name": "python3"
  },
  "language_info": {
   "codemirror_mode": {
    "name": "ipython",
    "version": 3
   },
   "file_extension": ".py",
   "mimetype": "text/x-python",
   "name": "python",
   "nbconvert_exporter": "python",
   "pygments_lexer": "ipython3",
   "version": "3.7.6"
  }
 },
 "nbformat": 4,
 "nbformat_minor": 4
}
